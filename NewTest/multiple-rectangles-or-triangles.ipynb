{
 "cells": [
  {
   "cell_type": "code",
   "execution_count": 1,
   "metadata": {
    "ExecuteTime": {
     "end_time": "2016-07-03T16:03:53.170000",
     "start_time": "2016-07-03T16:03:52.500000"
    }
   },
   "outputs": [],
   "source": [
    "import numpy as np\n",
    "import matplotlib.pyplot as plt\n",
    "import matplotlib\n",
    "%matplotlib inline"
   ]
  },
  {
   "cell_type": "code",
   "execution_count": 2,
   "metadata": {
    "ExecuteTime": {
     "end_time": "2016-07-03T16:16:34.666000",
     "start_time": "2016-07-03T16:16:28.832000"
    }
   },
   "outputs": [
    {
     "data": {
      "text/plain": [
       "((50000, 16, 16), (50000, 2, 4))"
      ]
     },
     "execution_count": 2,
     "metadata": {},
     "output_type": "execute_result"
    }
   ],
   "source": [
    "num_imgs = 50000\n",
    "\n",
    "img_size = 16\n",
    "min_rect_size = 3\n",
    "max_rect_size = 8\n",
    "num_objects = 2\n",
    "\n",
    "bboxes = np.zeros((num_imgs, num_objects, 4))\n",
    "imgs = np.zeros((num_imgs, img_size, img_size))\n",
    "shapes = np.zeros((num_imgs, num_objects, 1))\n",
    "\n",
    "for i_img in range(num_imgs):\n",
    "    for i_object in range(num_objects):\n",
    "        if np.random.choice([True, False]):\n",
    "            width, height = np.random.randint(min_rect_size, max_rect_size, size=2)\n",
    "            x = np.random.randint(0, img_size - width)\n",
    "            y = np.random.randint(0, img_size - height)\n",
    "            imgs[i_img, x:x+width, y:y+height] = 1.\n",
    "            bboxes[i_img, i_object] = [x, y, width, height]\n",
    "            shapes[i_img, i_object] = [0]\n",
    "        else:\n",
    "            size = np.random.randint(min_rect_size, max_rect_size)\n",
    "            x, y = np.random.randint(0, img_size - size, size=2)\n",
    "            mask = np.tril_indices(size)\n",
    "            imgs[i_img, x + mask[0], y + mask[1]] = 1.\n",
    "            bboxes[i_img, i_object] = [x, y, size, size]\n",
    "            shapes[i_img, i_object] = [1]\n",
    "            \n",
    "imgs.shape, bboxes.shape"
   ]
  },
  {
   "cell_type": "code",
   "execution_count": 3,
   "metadata": {
    "ExecuteTime": {
     "end_time": "2016-07-03T16:16:38.997000",
     "start_time": "2016-07-03T16:16:38.662000"
    }
   },
   "outputs": [
    {
     "data": {
      "image/png": "[encoded data removed]",
      "text/plain": [
       "<matplotlib.figure.Figure at 0x111a25d30>"
      ]
     },
     "metadata": {},
     "output_type": "display_data"
    }
   ],
   "source": [
    "i = 0\n",
    "# TODO: Why does the array have to be transposed?\n",
    "plt.imshow(imgs[i].T, cmap='Greys', interpolation='none', origin='lower', extent=[0, img_size, 0, img_size])\n",
    "for bbox, shape in zip(bboxes[i], shapes[i]):\n",
    "    plt.gca().add_patch(matplotlib.patches.Rectangle((bbox[0], bbox[1]), bbox[2], bbox[3], ec='r' if shape[0] == 0 else 'y', fc='none'))"
   ]
  },
  {
   "cell_type": "code",
   "execution_count": 4,
   "metadata": {
    "ExecuteTime": {
     "end_time": "2016-07-03T16:16:41.668000",
     "start_time": "2016-07-03T16:16:41.115000"
    }
   },
   "outputs": [
    {
     "data": {
      "text/plain": [
       "((50000, 256), -1.1003642441664852e-16, 1.0)"
      ]
     },
     "execution_count": 4,
     "metadata": {},
     "output_type": "execute_result"
    }
   ],
   "source": [
    "X = (imgs.reshape(num_imgs, -1) - np.mean(imgs)) / np.std(imgs)\n",
    "X.shape, np.mean(X), np.std(X)"
   ]
  },
  {
   "cell_type": "code",
   "execution_count": 5,
   "metadata": {
    "ExecuteTime": {
     "end_time": "2016-07-03T16:16:42.640000",
     "start_time": "2016-07-03T16:16:42.627000"
    }
   },
   "outputs": [
    {
     "data": {
      "text/plain": [
       "(50000, 10)"
      ]
     },
     "execution_count": 5,
     "metadata": {},
     "output_type": "execute_result"
    }
   ],
   "source": [
    "y = np.concatenate([bboxes / img_size, shapes], axis=-1).reshape(num_imgs, -1)\n",
    "y.shape"
   ]
  },
  {
   "cell_type": "code",
   "execution_count": 6,
   "metadata": {
    "ExecuteTime": {
     "end_time": "2016-07-03T16:16:43.445000",
     "start_time": "2016-07-03T16:16:43.437000"
    }
   },
   "outputs": [],
   "source": [
    "i = int(0.8 * num_imgs)\n",
    "train_X = X[:i]\n",
    "test_X = X[i:]\n",
    "train_y = y[:i]\n",
    "test_y = y[i:]\n",
    "test_imgs = imgs[i:]\n",
    "test_bboxes = bboxes[i:]"
   ]
  },
  {
   "cell_type": "code",
   "execution_count": 7,
   "metadata": {
    "ExecuteTime": {
     "end_time": "2016-07-03T16:16:44.266000",
     "start_time": "2016-07-03T16:16:44.145000"
    }
   },
   "outputs": [
    {
     "name": "stderr",
     "output_type": "stream",
     "text": [
      "Using TensorFlow backend.\n"
     ]
    }
   ],
   "source": [
    "from keras.models import Sequential\n",
    "from keras.layers import Dense, Activation, Dropout\n",
    "from keras.optimizers import SGD\n",
    "model = Sequential([\n",
    "        Dense(256, input_dim=X.shape[-1]), \n",
    "        Activation('relu'), \n",
    "        Dropout(0.4), \n",
    "        Dense(y.shape[-1])\n",
    "    ])\n",
    "model.compile('adadelta', 'mse')"
   ]
  },
  {
   "cell_type": "code",
   "execution_count": 10,
   "metadata": {
    "ExecuteTime": {
     "end_time": "2016-07-03T16:32:02.176000",
     "start_time": "2016-07-03T16:16:45.436000"
    },
    "code_folding": [
     2,
     17
    ]
   },
   "outputs": [
    {
     "name": "stdout",
     "output_type": "stream",
     "text": [
      "Epoch 0\n"
     ]
    },
    {
     "name": "stderr",
     "output_type": "stream",
     "text": [
      "/Users/andrewabbott/.virtualenvs/dl4cv/lib/python3.6/site-packages/keras/models.py:848: UserWarning: The `nb_epoch` argument in `fit` has been renamed `epochs`.\n",
      "  warnings.warn('The `nb_epoch` argument in `fit` '\n"
     ]
    },
    {
     "name": "stdout",
     "output_type": "stream",
     "text": [
      "Train on 40000 samples, validate on 10000 samples\n",
      "Epoch 1/1\n",
      "2s - loss: 0.1577 - val_loss: 0.0568\n",
      "Flipped 48.8975 % of all elements\n",
      "Mean IOU: 0.22785939804385502\n",
      "Mean dist: 0.20229541698117953\n",
      "Mean mse: 0.017306232257727417\n",
      "Epoch 1\n",
      "Train on 40000 samples, validate on 10000 samples\n",
      "Epoch 1/1\n",
      "2s - loss: 0.0562 - val_loss: 0.0503\n",
      "Flipped 28.634999999999998 % of all elements\n",
      "Mean IOU: 0.2652422624688664\n",
      "Mean dist: 0.18539639006863295\n",
      "Mean mse: 0.014237510183384672\n",
      "Epoch 2\n",
      "Train on 40000 samples, validate on 10000 samples\n",
      "Epoch 1/1\n",
      "3s - loss: 0.0494 - val_loss: 0.0484\n",
      "Flipped 18.584999999999997 % of all elements\n",
      "Mean IOU: 0.30461728704618113\n",
      "Mean dist: 0.16515404972498782\n",
      "Mean mse: 0.012028163319127308\n",
      "Epoch 3\n",
      "Train on 40000 samples, validate on 10000 samples\n",
      "Epoch 1/1\n",
      "2s - loss: 0.0449 - val_loss: 0.0488\n",
      "Flipped 11.1425 % of all elements\n",
      "Mean IOU: 0.3454508223412438\n",
      "Mean dist: 0.14578802087608234\n",
      "Mean mse: 0.01015507355832527\n",
      "Epoch 4\n",
      "Train on 40000 samples, validate on 10000 samples\n",
      "Epoch 1/1\n",
      "2s - loss: 0.0410 - val_loss: 0.0497\n",
      "Flipped 8.475000000000001 % of all elements\n",
      "Mean IOU: 0.37782864518596765\n",
      "Mean dist: 0.13205544867370442\n",
      "Mean mse: 0.008976210939109046\n",
      "Epoch 5\n",
      "Train on 40000 samples, validate on 10000 samples\n",
      "Epoch 1/1\n",
      "2s - loss: 0.0378 - val_loss: 0.0512\n",
      "Flipped 6.3149999999999995 % of all elements\n",
      "Mean IOU: 0.39717666522902545\n",
      "Mean dist: 0.12363080260235886\n",
      "Mean mse: 0.00824259964213662\n",
      "Epoch 6\n",
      "Train on 40000 samples, validate on 10000 samples\n",
      "Epoch 1/1\n",
      "2s - loss: 0.0354 - val_loss: 0.0515\n",
      "Flipped 5.140000000000001 % of all elements\n",
      "Mean IOU: 0.4178648696367286\n",
      "Mean dist: 0.11714020770785019\n",
      "Mean mse: 0.007646928353189981\n",
      "Epoch 7\n",
      "Train on 40000 samples, validate on 10000 samples\n",
      "Epoch 1/1\n",
      "2s - loss: 0.0334 - val_loss: 0.0526\n",
      "Flipped 4.047499999999999 % of all elements\n",
      "Mean IOU: 0.4300179826122206\n",
      "Mean dist: 0.11177980182394928\n",
      "Mean mse: 0.007207630505458419\n",
      "Epoch 8\n",
      "Train on 40000 samples, validate on 10000 samples\n",
      "Epoch 1/1\n",
      "3s - loss: 0.0319 - val_loss: 0.0525\n",
      "Flipped 3.92 % of all elements\n",
      "Mean IOU: 0.4403631377507353\n",
      "Mean dist: 0.10869523461172077\n",
      "Mean mse: 0.006929874680867445\n",
      "Epoch 9\n",
      "Train on 40000 samples, validate on 10000 samples\n",
      "Epoch 1/1\n",
      "2s - loss: 0.0306 - val_loss: 0.0533\n",
      "Flipped 4.01 % of all elements\n",
      "Mean IOU: 0.4536673420320014\n",
      "Mean dist: 0.10307721641699555\n",
      "Mean mse: 0.006465514088111101\n",
      "Epoch 10\n",
      "Train on 40000 samples, validate on 10000 samples\n",
      "Epoch 1/1\n",
      "2s - loss: 0.0297 - val_loss: 0.0539\n",
      "Flipped 3.495 % of all elements\n",
      "Mean IOU: 0.4611519390905515\n",
      "Mean dist: 0.10193156586638225\n",
      "Mean mse: 0.0063577883974342145\n",
      "Epoch 11\n",
      "Train on 40000 samples, validate on 10000 samples\n",
      "Epoch 1/1\n",
      "2s - loss: 0.0287 - val_loss: 0.0542\n",
      "Flipped 2.8575 % of all elements\n",
      "Mean IOU: 0.4628703739239433\n",
      "Mean dist: 0.10113525361559743\n",
      "Mean mse: 0.006255273174235802\n",
      "Epoch 12\n",
      "Train on 40000 samples, validate on 10000 samples\n",
      "Epoch 1/1\n",
      "2s - loss: 0.0281 - val_loss: 0.0538\n",
      "Flipped 3.0925000000000002 % of all elements\n",
      "Mean IOU: 0.47612558251293424\n",
      "Mean dist: 0.09696713973348005\n",
      "Mean mse: 0.005902421969794615\n",
      "Epoch 13\n",
      "Train on 40000 samples, validate on 10000 samples\n",
      "Epoch 1/1\n",
      "2s - loss: 0.0274 - val_loss: 0.0539\n",
      "Flipped 2.8275 % of all elements\n",
      "Mean IOU: 0.47995759969937263\n",
      "Mean dist: 0.09578226277367816\n",
      "Mean mse: 0.00579138644061377\n",
      "Epoch 14\n",
      "Train on 40000 samples, validate on 10000 samples\n",
      "Epoch 1/1\n",
      "2s - loss: 0.0269 - val_loss: 0.0544\n",
      "Flipped 2.6675 % of all elements\n",
      "Mean IOU: 0.48351180062535815\n",
      "Mean dist: 0.09484438885995157\n",
      "Mean mse: 0.005674969322923068\n",
      "Epoch 15\n",
      "Train on 40000 samples, validate on 10000 samples\n",
      "Epoch 1/1\n",
      "2s - loss: 0.0264 - val_loss: 0.0543\n",
      "Flipped 3.0875 % of all elements\n",
      "Mean IOU: 0.48863079148071975\n",
      "Mean dist: 0.09234763797815082\n",
      "Mean mse: 0.005521337253761491\n",
      "Epoch 16\n",
      "Train on 40000 samples, validate on 10000 samples\n",
      "Epoch 1/1\n",
      "87s - loss: 0.0259 - val_loss: 0.0542\n",
      "Flipped 2.86 % of all elements\n",
      "Mean IOU: 0.49451081886152004\n",
      "Mean dist: 0.09099831845945691\n",
      "Mean mse: 0.005387010639986372\n",
      "Epoch 17\n",
      "Train on 40000 samples, validate on 10000 samples\n",
      "Epoch 1/1\n",
      "3s - loss: 0.0256 - val_loss: 0.0545\n",
      "Flipped 2.5100000000000002 % of all elements\n",
      "Mean IOU: 0.49418636983237996\n",
      "Mean dist: 0.09104967756254341\n",
      "Mean mse: 0.005394139306757551\n",
      "Epoch 18\n",
      "Train on 40000 samples, validate on 10000 samples\n",
      "Epoch 1/1\n",
      "2s - loss: 0.0253 - val_loss: 0.0546\n",
      "Flipped 2.41 % of all elements\n",
      "Mean IOU: 0.4984732706996081\n",
      "Mean dist: 0.0894632341656842\n",
      "Mean mse: 0.0052320676307512715\n",
      "Epoch 19\n",
      "Train on 40000 samples, validate on 10000 samples\n",
      "Epoch 1/1\n",
      "2s - loss: 0.0250 - val_loss: 0.0550\n",
      "Flipped 2.4975 % of all elements\n",
      "Mean IOU: 0.5000476685611875\n",
      "Mean dist: 0.08898171587194681\n",
      "Mean mse: 0.005205215122018967\n",
      "Epoch 20\n",
      "Train on 40000 samples, validate on 10000 samples\n",
      "Epoch 1/1\n",
      "2s - loss: 0.0248 - val_loss: 0.0552\n",
      "Flipped 2.4525 % of all elements\n",
      "Mean IOU: 0.5033913540873635\n",
      "Mean dist: 0.0881095876163063\n",
      "Mean mse: 0.00510973447555988\n",
      "Epoch 21\n",
      "Train on 40000 samples, validate on 10000 samples\n",
      "Epoch 1/1\n",
      "2s - loss: 0.0244 - val_loss: 0.0551\n",
      "Flipped 2.365 % of all elements\n",
      "Mean IOU: 0.5045004210487031\n",
      "Mean dist: 0.08693006262697547\n",
      "Mean mse: 0.005011354276196299\n",
      "Epoch 22\n",
      "Train on 40000 samples, validate on 10000 samples\n",
      "Epoch 1/1\n",
      "2s - loss: 0.0241 - val_loss: 0.0551\n",
      "Flipped 2.6149999999999998 % of all elements\n",
      "Mean IOU: 0.504895793706399\n",
      "Mean dist: 0.08689951789500487\n",
      "Mean mse: 0.005007464538603385\n",
      "Epoch 23\n",
      "Train on 40000 samples, validate on 10000 samples\n",
      "Epoch 1/1\n",
      "2s - loss: 0.0239 - val_loss: 0.0550\n",
      "Flipped 2.35 % of all elements\n",
      "Mean IOU: 0.5122446382248405\n",
      "Mean dist: 0.08617815039120655\n",
      "Mean mse: 0.004931273723696219\n",
      "Epoch 24\n",
      "Train on 40000 samples, validate on 10000 samples\n",
      "Epoch 1/1\n",
      "2s - loss: 0.0238 - val_loss: 0.0551\n",
      "Flipped 2.19 % of all elements\n",
      "Mean IOU: 0.511003203475815\n",
      "Mean dist: 0.0847541965926458\n",
      "Mean mse: 0.004839442383765087\n",
      "Epoch 25\n",
      "Train on 40000 samples, validate on 10000 samples\n",
      "Epoch 1/1\n",
      "2s - loss: 0.0235 - val_loss: 0.0550\n",
      "Flipped 2.31 % of all elements\n",
      "Mean IOU: 0.5106347219993338\n",
      "Mean dist: 0.08458808078586359\n",
      "Mean mse: 0.0048184406504467574\n",
      "Epoch 26\n",
      "Train on 40000 samples, validate on 10000 samples\n",
      "Epoch 1/1\n",
      "2s - loss: 0.0234 - val_loss: 0.0547\n",
      "Flipped 2.56 % of all elements\n",
      "Mean IOU: 0.5121389953834106\n",
      "Mean dist: 0.08529156654119564\n",
      "Mean mse: 0.004833663586313094\n",
      "Epoch 27\n",
      "Train on 40000 samples, validate on 10000 samples\n",
      "Epoch 1/1\n",
      "2s - loss: 0.0231 - val_loss: 0.0551\n",
      "Flipped 2.6125 % of all elements\n",
      "Mean IOU: 0.5150825072562966\n",
      "Mean dist: 0.08394809297682986\n",
      "Mean mse: 0.004768094379913844\n",
      "Epoch 28\n",
      "Train on 40000 samples, validate on 10000 samples\n",
      "Epoch 1/1\n",
      "2s - loss: 0.0229 - val_loss: 0.0553\n",
      "Flipped 2.4775 % of all elements\n",
      "Mean IOU: 0.520457360987626\n",
      "Mean dist: 0.08303967478630898\n",
      "Mean mse: 0.0046945741809105886\n",
      "Epoch 29\n",
      "Train on 40000 samples, validate on 10000 samples\n",
      "Epoch 1/1\n",
      "2s - loss: 0.0227 - val_loss: 0.0552\n",
      "Flipped 2.6275 % of all elements\n",
      "Mean IOU: 0.515911966230929\n",
      "Mean dist: 0.08310162631515777\n",
      "Mean mse: 0.004676831073141484\n",
      "Epoch 30\n",
      "Train on 40000 samples, validate on 10000 samples\n",
      "Epoch 1/1\n",
      "2s - loss: 0.0226 - val_loss: 0.0555\n",
      "Flipped 2.3775 % of all elements\n",
      "Mean IOU: 0.5256597571385213\n",
      "Mean dist: 0.08104032412492763\n",
      "Mean mse: 0.004559951923430002\n",
      "Epoch 31\n",
      "Train on 40000 samples, validate on 10000 samples\n",
      "Epoch 1/1\n",
      "2s - loss: 0.0224 - val_loss: 0.0553\n",
      "Flipped 2.44 % of all elements\n",
      "Mean IOU: 0.5202347709318526\n",
      "Mean dist: 0.08183211377722352\n",
      "Mean mse: 0.004603544258223783\n",
      "Epoch 32\n",
      "Train on 40000 samples, validate on 10000 samples\n",
      "Epoch 1/1\n",
      "2s - loss: 0.0222 - val_loss: 0.0556\n",
      "Flipped 2.21 % of all elements\n",
      "Mean IOU: 0.5281608337257523\n",
      "Mean dist: 0.08017405486691138\n",
      "Mean mse: 0.004506598487571714\n",
      "Epoch 33\n",
      "Train on 40000 samples, validate on 10000 samples\n",
      "Epoch 1/1\n",
      "2s - loss: 0.0220 - val_loss: 0.0555\n",
      "Flipped 2.37 % of all elements\n",
      "Mean IOU: 0.5265824848467774\n",
      "Mean dist: 0.08115279965992887\n",
      "Mean mse: 0.004553180685974387\n",
      "Epoch 34\n",
      "Train on 40000 samples, validate on 10000 samples\n",
      "Epoch 1/1\n",
      "2s - loss: 0.0221 - val_loss: 0.0555\n",
      "Flipped 2.11 % of all elements\n",
      "Mean IOU: 0.5251181035791528\n",
      "Mean dist: 0.07961672095248244\n",
      "Mean mse: 0.00444207628754586\n",
      "Epoch 35\n",
      "Train on 40000 samples, validate on 10000 samples\n",
      "Epoch 1/1\n",
      "2s - loss: 0.0218 - val_loss: 0.0554\n"
     ]
    },
    {
     "name": "stdout",
     "output_type": "stream",
     "text": [
      "Flipped 2.2375 % of all elements\n",
      "Mean IOU: 0.5243686897369456\n",
      "Mean dist: 0.08040046791881555\n",
      "Mean mse: 0.004456855947582554\n",
      "Epoch 36\n",
      "Train on 40000 samples, validate on 10000 samples\n",
      "Epoch 1/1\n",
      "2s - loss: 0.0217 - val_loss: 0.0554\n",
      "Flipped 2.1825 % of all elements\n",
      "Mean IOU: 0.5287882892990374\n",
      "Mean dist: 0.08010461993112077\n",
      "Mean mse: 0.004455663471514961\n",
      "Epoch 37\n",
      "Train on 40000 samples, validate on 10000 samples\n",
      "Epoch 1/1\n",
      "2s - loss: 0.0215 - val_loss: 0.0553\n",
      "Flipped 2.1875 % of all elements\n",
      "Mean IOU: 0.5260603056920631\n",
      "Mean dist: 0.07994026646768859\n",
      "Mean mse: 0.004416976174760126\n",
      "Epoch 38\n",
      "Train on 40000 samples, validate on 10000 samples\n",
      "Epoch 1/1\n",
      "2s - loss: 0.0214 - val_loss: 0.0556\n",
      "Flipped 2.16 % of all elements\n",
      "Mean IOU: 0.5314003588023648\n",
      "Mean dist: 0.07934276724106978\n",
      "Mean mse: 0.004376727230091499\n",
      "Epoch 39\n",
      "Train on 40000 samples, validate on 10000 samples\n",
      "Epoch 1/1\n",
      "2s - loss: 0.0214 - val_loss: 0.0556\n",
      "Flipped 2.4775 % of all elements\n",
      "Mean IOU: 0.5311890339974686\n",
      "Mean dist: 0.0787356277998216\n",
      "Mean mse: 0.004376479536503204\n",
      "Epoch 40\n",
      "Train on 40000 samples, validate on 10000 samples\n",
      "Epoch 1/1\n",
      "2s - loss: 0.0211 - val_loss: 0.0552\n",
      "Flipped 2.35 % of all elements\n",
      "Mean IOU: 0.5277872182997458\n",
      "Mean dist: 0.0795935548479555\n",
      "Mean mse: 0.004403259804525907\n",
      "Epoch 41\n",
      "Train on 40000 samples, validate on 10000 samples\n",
      "Epoch 1/1\n",
      "2s - loss: 0.0211 - val_loss: 0.0555\n",
      "Flipped 2.1825 % of all elements\n",
      "Mean IOU: 0.5355169433506386\n",
      "Mean dist: 0.0782458470240673\n",
      "Mean mse: 0.0043071086957941805\n",
      "Epoch 42\n",
      "Train on 40000 samples, validate on 10000 samples\n",
      "Epoch 1/1\n",
      "2s - loss: 0.0209 - val_loss: 0.0562\n",
      "Flipped 2.0425 % of all elements\n",
      "Mean IOU: 0.5340148071488368\n",
      "Mean dist: 0.07758559618257131\n",
      "Mean mse: 0.004254433466172281\n",
      "Epoch 43\n",
      "Train on 40000 samples, validate on 10000 samples\n",
      "Epoch 1/1\n",
      "2s - loss: 0.0209 - val_loss: 0.0559\n",
      "Flipped 2.2725 % of all elements\n",
      "Mean IOU: 0.5297543731452486\n",
      "Mean dist: 0.07943504967788087\n",
      "Mean mse: 0.004361036266134273\n",
      "Epoch 44\n",
      "Train on 40000 samples, validate on 10000 samples\n",
      "Epoch 1/1\n",
      "2s - loss: 0.0209 - val_loss: 0.0555\n",
      "Flipped 1.96 % of all elements\n",
      "Mean IOU: 0.5345226718836792\n",
      "Mean dist: 0.07794377517588381\n",
      "Mean mse: 0.00427402605813884\n",
      "Epoch 45\n",
      "Train on 40000 samples, validate on 10000 samples\n",
      "Epoch 1/1\n",
      "3s - loss: 0.0209 - val_loss: 0.0560\n",
      "Flipped 2.04 % of all elements\n",
      "Mean IOU: 0.5364490926661496\n",
      "Mean dist: 0.07702877195739756\n",
      "Mean mse: 0.0042071741660669355\n",
      "Epoch 46\n",
      "Train on 40000 samples, validate on 10000 samples\n",
      "Epoch 1/1\n",
      "2s - loss: 0.0206 - val_loss: 0.0562\n",
      "Flipped 2.1774999999999998 % of all elements\n",
      "Mean IOU: 0.5389576108903814\n",
      "Mean dist: 0.0774095932226745\n",
      "Mean mse: 0.0042709770486198135\n",
      "Epoch 47\n",
      "Train on 40000 samples, validate on 10000 samples\n",
      "Epoch 1/1\n",
      "2s - loss: 0.0206 - val_loss: 0.0563\n",
      "Flipped 2.2325 % of all elements\n",
      "Mean IOU: 0.537544355597307\n",
      "Mean dist: 0.07687213328245354\n",
      "Mean mse: 0.004202360134575571\n",
      "Epoch 48\n",
      "Train on 40000 samples, validate on 10000 samples\n",
      "Epoch 1/1\n",
      "2s - loss: 0.0206 - val_loss: 0.0562\n",
      "Flipped 2.15 % of all elements\n",
      "Mean IOU: 0.5376676267327453\n",
      "Mean dist: 0.0773555717741781\n",
      "Mean mse: 0.004216794462570337\n",
      "Epoch 49\n",
      "Train on 40000 samples, validate on 10000 samples\n",
      "Epoch 1/1\n",
      "2s - loss: 0.0205 - val_loss: 0.0563\n",
      "Flipped 1.95 % of all elements\n",
      "Mean IOU: 0.5386993941302888\n",
      "Mean dist: 0.076998866776641\n",
      "Mean mse: 0.004214927654601973\n"
     ]
    }
   ],
   "source": [
    "# Flip bboxes during training.\n",
    "# Note: The validation loss is always quite big here because we don't flip the bounding boxes for the validation data. \n",
    "def IOU(bbox1, bbox2):\n",
    "    '''Calculate overlap between two bounding boxes [x, y, w, h] as the area of intersection over the area of unity'''\n",
    "    x1, y1, w1, h1 = bbox1[0], bbox1[1], bbox1[2], bbox1[3]  # TODO: Check if its more performant if tensor elements are accessed directly below.\n",
    "    x2, y2, w2, h2 = bbox2[0], bbox2[1], bbox2[2], bbox2[3]\n",
    "\n",
    "    w_I = min(x1 + w1, x2 + w2) - max(x1, x2)\n",
    "    h_I = min(y1 + h1, y2 + h2) - max(y1, y2)\n",
    "    if w_I <= 0 or h_I <= 0:  # no overlap\n",
    "        return 0\n",
    "    I = w_I * h_I\n",
    "\n",
    "    U = w1 * h1 + w2 * h2 - I\n",
    "\n",
    "    return I / U\n",
    "\n",
    "def dist(bbox1, bbox2):\n",
    "    return np.sqrt(np.sum(np.square(bbox1[:2] - bbox2[:2])))\n",
    "\n",
    "num_epochs_flipping = 50\n",
    "num_epochs_no_flipping = 0  # has no significant effect\n",
    "flipped_train_y = np.array(train_y)\n",
    "flipped = np.zeros((len(flipped_train_y), num_epochs_flipping + num_epochs_no_flipping))\n",
    "ious_epoch = np.zeros((len(flipped_train_y), num_epochs_flipping + num_epochs_no_flipping))\n",
    "dists_epoch = np.zeros((len(flipped_train_y), num_epochs_flipping + num_epochs_no_flipping))\n",
    "mses_epoch = np.zeros((len(flipped_train_y), num_epochs_flipping + num_epochs_no_flipping))\n",
    "\n",
    "# TODO: Calculate ious directly for all samples (using slices of the array pred_y for x, y, w, h).\n",
    "for epoch in range(num_epochs_flipping):\n",
    "    print('Epoch', epoch)\n",
    "    model.fit(train_X, flipped_train_y, nb_epoch=1, validation_data=(test_X, test_y), verbose=2)\n",
    "    pred_y = model.predict(train_X)\n",
    "\n",
    "    for sample, (pred, exp) in enumerate(zip(pred_y, flipped_train_y)):\n",
    "        \n",
    "        # TODO: Make this simpler.\n",
    "        pred = pred.reshape(num_objects, -1)\n",
    "        exp = exp.reshape(num_objects, -1)\n",
    "        \n",
    "        pred_bboxes = pred[:, :4]\n",
    "        exp_bboxes = exp[:, :4]\n",
    "        \n",
    "        # TODO: Try flipping array and see if results differ.\n",
    "        ious = np.zeros((num_objects, num_objects))\n",
    "        dists = np.zeros((num_objects, num_objects))\n",
    "        mses = np.zeros((num_objects, num_objects))\n",
    "        for i, exp_bbox in enumerate(exp_bboxes):\n",
    "            for j, pred_bbox in enumerate(pred_bboxes):\n",
    "                ious[i, j] = IOU(exp_bbox, pred_bbox)\n",
    "                dists[i, j] = dist(exp_bbox, pred_bbox)\n",
    "                mses[i, j] = np.mean(np.square(exp_bbox - pred_bbox))\n",
    "                \n",
    "        new_order = np.zeros(num_objects, dtype=int)\n",
    "        \n",
    "        for i in range(num_objects):\n",
    "            # Find pred and exp bbox with maximum iou and assign them to each other (i.e. switch the positions of the exp bboxes in y).\n",
    "            ind_exp_bbox, ind_pred_bbox = np.unravel_index(mses.argmin(), mses.shape)\n",
    "            ious_epoch[sample, epoch] += ious[ind_exp_bbox, ind_pred_bbox]\n",
    "            dists_epoch[sample, epoch] += dists[ind_exp_bbox, ind_pred_bbox]\n",
    "            mses_epoch[sample, epoch] += mses[ind_exp_bbox, ind_pred_bbox]\n",
    "            mses[ind_exp_bbox] = 1000000#-1  # set iou of assigned bboxes to -1, so they don't get assigned again\n",
    "            mses[:, ind_pred_bbox] = 10000000#-1\n",
    "            new_order[ind_pred_bbox] = ind_exp_bbox\n",
    "        \n",
    "        flipped_train_y[sample] = exp[new_order].flatten()\n",
    "        \n",
    "        flipped[sample, epoch] = 1. - np.mean(new_order == np.arange(num_objects, dtype=int))#np.array_equal(new_order, np.arange(num_objects, dtype=int))  # TODO: Change this to reflect the number of flips.\n",
    "        ious_epoch[sample, epoch] /= num_objects\n",
    "        dists_epoch[sample, epoch] /= num_objects\n",
    "        mses_epoch[sample, epoch] /= num_objects\n",
    "        \n",
    "            \n",
    "    print('Flipped {} % of all elements'.format(np.mean(flipped[:, epoch]) * 100.))\n",
    "    print('Mean IOU: {}'.format(np.mean(ious_epoch[:, epoch])))\n",
    "    print('Mean dist: {}'.format(np.mean(dists_epoch[:, epoch])))\n",
    "    print('Mean mse: {}'.format(np.mean(mses_epoch[:, epoch])))\n",
    "    print\n",
    "    \n",
    "# print '------------------------------------'\n",
    "# print 'Training now without flipping bboxes'\n",
    "# print '------------------------------------'\n",
    "    \n",
    "# for epoch in range(num_epochs_flipping, num_epochs_flipping + num_epochs_no_flipping):\n",
    "#     print 'Epoch', epoch\n",
    "#     model.fit(train_X, flipped_train_y, nb_epoch=1, validation_data=(test_X, test_y), verbose=2)\n",
    "#     pred_y = model.predict(train_X)\n",
    "\n",
    "#     # Calculate iou/dist, but don't flip.\n",
    "#     for sample, (pred_bboxes, exp_bboxes) in enumerate(zip(pred_y, flipped_train_y)):\n",
    "        \n",
    "#         pred_bboxes = pred_bboxes.reshape(num_objects, -1)\n",
    "#         exp_bboxes = exp_bboxes.reshape(num_objects, -1)        \n",
    "        \n",
    "#         for exp_bbox, pred_bbox in zip(exp_bboxes, pred_bboxes):\n",
    "#             ious_epoch[sample, epoch] += IOU(exp_bbox, pred_bbox)\n",
    "#             dists_epoch[sample, epoch] += dist(exp_bbox, pred_bbox)\n",
    "#             mses_epoch[sample, epoch] += np.mean(np.square(exp_bbox - pred_bbox))\n",
    "            \n",
    "#         ious_epoch[sample, epoch] /= num_objects\n",
    "#         dists_epoch[sample, epoch] /= num_objects \n",
    "#         mses_epoch[sample, epoch] /= num_objects \n",
    "            \n",
    "# #     print 'Flipped {} % of all elements'.format(np.mean(flipped[:, epoch]) * 100.)\n",
    "#     print 'Mean IOU: {}'.format(np.mean(ious_epoch[:, epoch]))\n",
    "#     print 'Mean dist: {}'.format(np.mean(dists_epoch[:, epoch]))\n",
    "#     print 'Mean mse: {}'.format(np.mean(mses_epoch[:, epoch]))\n",
    "#     print\n",
    "    \n",
    "# TODO: Calculate IOU and dist for validation data during training."
   ]
  },
  {
   "cell_type": "code",
   "execution_count": 11,
   "metadata": {
    "ExecuteTime": {
     "end_time": "2016-07-03T16:32:11.172000",
     "start_time": "2016-07-03T16:32:07.209000"
    }
   },
   "outputs": [
    {
     "data": {
      "text/plain": [
       "<matplotlib.text.Text at 0x132cc7d30>"
      ]
     },
     "execution_count": 11,
     "metadata": {},
     "output_type": "execute_result"
    },
    {
     "data": {
      "image/png": "[encoded data removed]",
      "text/plain": [
       "<matplotlib.figure.Figure at 0x132cec780>"
      ]
     },
     "metadata": {},
     "output_type": "display_data"
    }
   ],
   "source": [
    "plt.pcolor(flipped[:1000], cmap='Greys', vmax=1.)\n",
    "# plt.axvline(num_epochs_flipping, c='r')\n",
    "plt.xlabel('Epoch')\n",
    "plt.ylabel('Training sample')"
   ]
  },
  {
   "cell_type": "code",
   "execution_count": 12,
   "metadata": {
    "ExecuteTime": {
     "end_time": "2016-07-03T16:32:15.670000",
     "start_time": "2016-07-03T16:32:15.223000"
    }
   },
   "outputs": [
    {
     "data": {
      "text/plain": [
       "(0, 1)"
      ]
     },
     "execution_count": 12,
     "metadata": {},
     "output_type": "execute_result"
    },
    {
     "data": {
      "image/png": "[encoded data removed]",
      "text/plain": [
       "<matplotlib.figure.Figure at 0x1396a7828>"
      ]
     },
     "metadata": {},
     "output_type": "display_data"
    }
   ],
   "source": [
    "mean_ious_epoch = np.mean(ious_epoch, axis=0)\n",
    "mean_dists_epoch = np.mean(dists_epoch, axis=0)\n",
    "mean_mses_epoch = np.mean(mses_epoch, axis=0)\n",
    "plt.plot(mean_ious_epoch, label='Mean IOU')  # between predicted and assigned true bboxes\n",
    "plt.plot(mean_dists_epoch, label='Mean distance')  # relative to image size\n",
    "plt.plot(mean_mses_epoch, label='Mean mse')  # relative to image size\n",
    "plt.annotate(np.round(np.max(mean_ious_epoch), 3), (len(mean_ious_epoch)-1, mean_ious_epoch[-1]+0.03), horizontalalignment='right', color='b')\n",
    "plt.annotate(np.round(np.min(mean_dists_epoch), 3), (len(mean_dists_epoch)-1, mean_dists_epoch[-1]+0.03), horizontalalignment='right', color='g')\n",
    "plt.annotate(np.round(np.min(mean_mses_epoch), 3), (len(mean_mses_epoch)-1, mean_mses_epoch[-1]+0.03), horizontalalignment='right', color='r')\n",
    "# plt.axvline(num_epochs_flipping, c='r')\n",
    "plt.xlabel('Epoch')\n",
    "plt.legend()\n",
    "plt.ylim(0, 1)\n",
    "\n",
    "# plt.savefig('plots/bw-multiple-rectangles-mse.png', dpi=300)"
   ]
  },
  {
   "cell_type": "code",
   "execution_count": 13,
   "metadata": {
    "ExecuteTime": {
     "end_time": "2016-07-03T16:32:21.325000",
     "start_time": "2016-07-03T16:32:20.874000"
    }
   },
   "outputs": [
    {
     "data": {
      "text/plain": [
       "((10000, 2, 4), (10000, 2, 1))"
      ]
     },
     "execution_count": 13,
     "metadata": {},
     "output_type": "execute_result"
    }
   ],
   "source": [
    "pred_y = model.predict(test_X)\n",
    "pred_y = pred_y.reshape(len(pred_y), num_objects, -1)\n",
    "pred_bboxes = pred_y[..., :4] * img_size\n",
    "pred_shapes = pred_y[..., 4:5]\n",
    "pred_bboxes.shape, pred_shapes.shape"
   ]
  },
  {
   "cell_type": "code",
   "execution_count": 14,
   "metadata": {
    "ExecuteTime": {
     "end_time": "2016-07-03T16:33:28.201000",
     "start_time": "2016-07-03T16:33:26.046000"
    }
   },
   "outputs": [
    {
     "data": {
      "image/png": "[encoded data removed]",
      "text/plain": [
       "<matplotlib.figure.Figure at 0x111bad320>"
      ]
     },
     "metadata": {},
     "output_type": "display_data"
    }
   ],
   "source": [
    "plt.figure(figsize=(16, 8))\n",
    "for i_subplot in range(1, 9):\n",
    "    plt.subplot(2, 4, i_subplot)\n",
    "    i = np.random.randint(len(test_X))\n",
    "    plt.imshow(test_imgs[i].T, cmap='Greys', interpolation='none', origin='lower', extent=[0, img_size, 0, img_size])\n",
    "    for pred_bbox, exp_bbox, pred_shape in zip(pred_bboxes[i], test_bboxes[i], pred_shapes[i]):\n",
    "        plt.gca().add_patch(matplotlib.patches.Rectangle((pred_bbox[0], pred_bbox[1]), pred_bbox[2], pred_bbox[3], ec='r' if pred_shape[0] <= 0.5 else 'y', fc='none'))\n",
    "        # TODO: Calculate max IOU with all expected bounding boxes.\n",
    "#         plt.annotate('IOU: {:.2f}'.format(IOU(pred_bbox, exp_bbox)), (pred_bbox[0], pred_bbox[1]+pred_bbox[3]+0.4), color='r')"
   ]
  },
  {
   "cell_type": "code",
   "execution_count": null,
   "metadata": {},
   "outputs": [],
   "source": []
  },
  {
   "cell_type": "code",
   "execution_count": null,
   "metadata": {},
   "outputs": [],
   "source": []
  }
 ],
 "metadata": {
  "kernelspec": {
   "display_name": "Python 3",
   "language": "python",
   "name": "python3"
  },
  "language_info": {
   "codemirror_mode": {
    "name": "ipython",
    "version": 3
   },
   "file_extension": ".py",
   "mimetype": "text/x-python",
   "name": "python",
   "nbconvert_exporter": "python",
   "pygments_lexer": "ipython3",
   "version": "3.6.2"
  }
 },
 "nbformat": 4,
 "nbformat_minor": 1
}
