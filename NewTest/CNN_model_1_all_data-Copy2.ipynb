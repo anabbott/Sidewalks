{
 "cells": [
  {
   "cell_type": "code",
   "execution_count": null,
   "metadata": {
    "collapsed": true
   },
   "outputs": [],
   "source": [
    "# this model tunes for 16 frames:"
   ]
  },
  {
   "cell_type": "code",
   "execution_count": 1,
   "metadata": {},
   "outputs": [
    {
     "name": "stderr",
     "output_type": "stream",
     "text": [
      "Using TensorFlow backend.\n"
     ]
    }
   ],
   "source": [
    "# adding in the additional dataset to sample from:\n",
    "\n",
    "import pandas as pd\n",
    "import numpy as np\n",
    "import keras \n",
    "import glob\n",
    "import matplotlib.pyplot as plt\n",
    "from scipy import misc\n",
    "\n",
    "from sklearn.model_selection import ShuffleSplit, train_test_split\n",
    "from keras.models import Sequential\n",
    "from keras.layers import Dense, Dropout, Activation, Flatten\n",
    "from keras.layers import MaxPooling2D #, Convolution2D - old Keras implementation;\n",
    "from keras.layers.convolutional import Conv2D\n",
    "from keras import backend as K\n",
    "from keras.utils import np_utils\n",
    "import scipy.stats as sp\n"
   ]
  },
  {
   "cell_type": "code",
   "execution_count": 2,
   "metadata": {
    "scrolled": true
   },
   "outputs": [],
   "source": [
    "path = \"Analysis/Data/Curb/*.jpg\"\n",
    "path2 = \"Analysis/Data/noCurb/*.jpg\"\n",
    "\n",
    "counter = 0\n",
    "\n",
    "curb_data = [] # instantiate a list to store all of these values in\n",
    "\n",
    "curb_labels = [] # instantiate a list to store the labels of the data\n",
    "\n",
    "for fname in glob.glob(path):\n",
    "    #print(fname)\n",
    "    pic = misc.imread(fname)\n",
    "    #print( pic.shape, type(pic))\n",
    "    #print(counter)\n",
    "    curb_data.append(pic)\n",
    "    counter += 1\n",
    "    curb_labels.append(1)\n",
    "    #plt.imshow(pic)\n",
    "    #plt.show()\n",
    "    \n",
    "for fname in glob.glob(path2):\n",
    "    \n",
    "    pic = misc.imread(fname)\n",
    "    curb_data.append(pic)\n",
    "    counter +=1\n",
    "    curb_labels.append(0)\n",
    "    \n",
    "    \n",
    "curb_data = np.array(curb_data)   \n",
    "curb_labels = np.array(curb_labels)"
   ]
  },
  {
   "cell_type": "code",
   "execution_count": 3,
   "metadata": {},
   "outputs": [
    {
     "name": "stdout",
     "output_type": "stream",
     "text": [
      "(6052, 100, 100, 3)\n",
      "(6052,)\n",
      "1\n",
      "0\n",
      "6052\n"
     ]
    }
   ],
   "source": [
    "print(curb_data.shape)\n",
    "\n",
    "print(curb_labels.shape)\n",
    "print(np.amax(curb_labels))\n",
    "print(np.amin(curb_labels))\n",
    "print(curb_labels.size)\n",
    "# remember: record count, rows, columns, color dim, classification"
   ]
  },
  {
   "cell_type": "code",
   "execution_count": 4,
   "metadata": {},
   "outputs": [
    {
     "data": {
      "image/png": "[encoded data removed]",
      "text/plain": [
       "<matplotlib.figure.Figure at 0x5367438>"
      ]
     },
     "metadata": {},
     "output_type": "display_data"
    }
   ],
   "source": [
    "# test image integrity \n",
    "plt.imshow(curb_data[10])\n",
    "plt.show()"
   ]
  },
  {
   "cell_type": "code",
   "execution_count": 5,
   "metadata": {},
   "outputs": [
    {
     "name": "stdout",
     "output_type": "stream",
     "text": [
      "(4841, 100, 100, 3)\n",
      "(1211, 100, 100, 3)\n",
      "(4841,)\n",
      "(1211,)\n"
     ]
    }
   ],
   "source": [
    "# Create training and test split arrays:\n",
    "\n",
    "# just do an 80/20 test/train split for the time being, then can go do better cross validation later:\n",
    "\n",
    "X_train, X_test, y_train, y_test = train_test_split(curb_data, curb_labels, test_size = 0.2, random_state = 100)\n",
    "\n",
    "# check to make sure it everything went smoothly:\n",
    "print(X_train.shape)\n",
    "print(X_test.shape)\n",
    "print(y_train.shape)\n",
    "print(y_test.shape)"
   ]
  },
  {
   "cell_type": "code",
   "execution_count": 6,
   "metadata": {},
   "outputs": [
    {
     "name": "stdout",
     "output_type": "stream",
     "text": [
      "0\n",
      "255\n",
      "uint8\n"
     ]
    }
   ],
   "source": [
    "# are we getting the correct values? :\n",
    "print(X_train.min())\n",
    "print(X_train.max())\n",
    "print(X_train.dtype) # need to change the data type\n",
    "\n",
    "# looks good"
   ]
  },
  {
   "cell_type": "code",
   "execution_count": 7,
   "metadata": {},
   "outputs": [],
   "source": [
    "# change the datatype to float:\n",
    "\n",
    "X_train = X_train.astype('float32')\n",
    "X_test = X_test.astype('float32')"
   ]
  },
  {
   "cell_type": "code",
   "execution_count": 8,
   "metadata": {},
   "outputs": [],
   "source": [
    "# normalize the data to a value of 1:\n",
    "X_train /= 255\n",
    "X_test /= 255"
   ]
  },
  {
   "cell_type": "code",
   "execution_count": 9,
   "metadata": {},
   "outputs": [
    {
     "data": {
      "text/plain": [
       "array([1, 0, 1, 0, 1, 0, 1, 0, 0, 1])"
      ]
     },
     "execution_count": 9,
     "metadata": {},
     "output_type": "execute_result"
    }
   ],
   "source": [
    "# just a boolean array:\n",
    "y_train[:10]"
   ]
  },
  {
   "cell_type": "code",
   "execution_count": 10,
   "metadata": {},
   "outputs": [],
   "source": [
    "y_train = np_utils.to_categorical(y_train,2)\n",
    "y_test = np_utils.to_categorical(y_test, 2)"
   ]
  },
  {
   "cell_type": "code",
   "execution_count": 11,
   "metadata": {},
   "outputs": [
    {
     "name": "stdout",
     "output_type": "stream",
     "text": [
      "(4841, 2)\n",
      "(1211, 2)\n"
     ]
    }
   ],
   "source": [
    "print(y_train.shape)\n",
    "print(y_test.shape)"
   ]
  },
  {
   "cell_type": "code",
   "execution_count": 12,
   "metadata": {
    "collapsed": true
   },
   "outputs": [],
   "source": [
    "# now create the layers of the neural network:\n",
    "\n",
    "model = Sequential()"
   ]
  },
  {
   "cell_type": "code",
   "execution_count": 13,
   "metadata": {
    "collapsed": true
   },
   "outputs": [],
   "source": [
    "model.add(Conv2D(32,kernel_size = (3,3), activation = 'relu', input_shape = (100, 100, 3)))"
   ]
  },
  {
   "cell_type": "code",
   "execution_count": 14,
   "metadata": {},
   "outputs": [
    {
     "name": "stdout",
     "output_type": "stream",
     "text": [
      "(None, 98, 98, 32)\n"
     ]
    }
   ],
   "source": [
    "print( model.output_shape)"
   ]
  },
  {
   "cell_type": "code",
   "execution_count": 15,
   "metadata": {
    "collapsed": true
   },
   "outputs": [],
   "source": [
    "model.add(Conv2D(32,(3,3), activation = 'relu'))\n",
    "model.add(MaxPooling2D(pool_size = (2, 2)))\n",
    "model.add(Dropout(0.25))"
   ]
  },
  {
   "cell_type": "code",
   "execution_count": 16,
   "metadata": {
    "collapsed": true
   },
   "outputs": [],
   "source": [
    "# Now, let's connect the Dense layers: fully connected dense layers\n",
    "model.add(Flatten())\n",
    "model.add(Dense(128,activation = 'relu')) # dimensionality of hte output space = 128, relu = rectifed linear unit - \n",
    "model.add(Dropout(0.5)) # to prevent overfitting- should we adjust - Larson explain?\n",
    "model.add(Dense(2, activation = 'softmax'))"
   ]
  },
  {
   "cell_type": "code",
   "execution_count": 17,
   "metadata": {
    "collapsed": true
   },
   "outputs": [],
   "source": [
    "# compile the model - define the loss function and optimizer:\n",
    "\n",
    "model.compile(loss = 'categorical_crossentropy', optimizer = 'adam',metrics =['accuracy'])"
   ]
  },
  {
   "cell_type": "code",
   "execution_count": 18,
   "metadata": {},
   "outputs": [
    {
     "name": "stdout",
     "output_type": "stream",
     "text": [
      "_________________________________________________________________\n",
      "Layer (type)                 Output Shape              Param #   \n",
      "=================================================================\n",
      "conv2d_1 (Conv2D)            (None, 98, 98, 32)        896       \n",
      "_________________________________________________________________\n",
      "conv2d_2 (Conv2D)            (None, 96, 96, 32)        9248      \n",
      "_________________________________________________________________\n",
      "max_pooling2d_1 (MaxPooling2 (None, 48, 48, 32)        0         \n",
      "_________________________________________________________________\n",
      "dropout_1 (Dropout)          (None, 48, 48, 32)        0         \n",
      "_________________________________________________________________\n",
      "flatten_1 (Flatten)          (None, 73728)             0         \n",
      "_________________________________________________________________\n",
      "dense_1 (Dense)              (None, 128)               9437312   \n",
      "_________________________________________________________________\n",
      "dropout_2 (Dropout)          (None, 128)               0         \n",
      "_________________________________________________________________\n",
      "dense_2 (Dense)              (None, 2)                 258       \n",
      "=================================================================\n",
      "Total params: 9,447,714\n",
      "Trainable params: 9,447,714\n",
      "Non-trainable params: 0\n",
      "_________________________________________________________________\n"
     ]
    }
   ],
   "source": [
    "model.summary()"
   ]
  },
  {
   "cell_type": "code",
   "execution_count": null,
   "metadata": {},
   "outputs": [
    {
     "name": "stderr",
     "output_type": "stream",
     "text": [
      "C:\\Users\\e93962\\AppData\\Local\\Continuum\\Anaconda3\\lib\\site-packages\\keras\\models.py:844: UserWarning: The `nb_epoch` argument in `fit` has been renamed `epochs`.\n",
      "  warnings.warn('The `nb_epoch` argument in `fit` '\n"
     ]
    },
    {
     "name": "stdout",
     "output_type": "stream",
     "text": [
      "Epoch 1/10\n",
      "2784/4841 [================>.............] - ETA: 62s - loss: 5.1778 - acc: 0.6724"
     ]
    }
   ],
   "source": [
    "model.fit(X_train, y_train, batch_size = 32, nb_epoch = 10, verbose = 1)"
   ]
  },
  {
   "cell_type": "code",
   "execution_count": 44,
   "metadata": {},
   "outputs": [
    {
     "name": "stdout",
     "output_type": "stream",
     "text": [
      "With a loss of 1.1645 we got an accuracy of:  0.7638\n"
     ]
    }
   ],
   "source": [
    "score = model.evaluate(X_test, y_test, verbose = 0)\n",
    "print( 'With a loss of', '%.4f' % score[0], 'we got an accuracy of: ', '%.4f' % score[1] )"
   ]
  },
  {
   "cell_type": "code",
   "execution_count": null,
   "metadata": {
    "collapsed": true
   },
   "outputs": [],
   "source": [
    "# adding in the new model on the frames:\n",
    "\n",
    "model = Sequential()\n",
    "model.add(Conv2D(32,kernel_size = (3,3), activation = 'relu', input_shape = (100, 100, 3)))\n",
    "\n",
    "model.add(Conv2D(32,(3,3), activation = 'relu'))\n",
    "model.add(MaxPooling2D(pool_size = (2, 2)))\n",
    "model.add(Dropout(0.25))\n",
    "\n",
    "model.add(Flatten())\n",
    "model.add(Dense(128,activation = 'relu')) # dimensionality of hte output space = 128, relu = rectifed linear unit - \n",
    "model.add(Dropout(0.5)) # to prevent overfitting- should we adjust - Larson explain?\n",
    "model.add(Dense(2, activation = 'softmax'))\n",
    "\n",
    "model.compile(loss = 'categorical_crossentropy', optimizer = 'adam',metrics =['accuracy'])\n",
    "\n",
    "# show the summary of the model:\n",
    "model.summary()"
   ]
  }
 ],
 "metadata": {
  "anaconda-cloud": {},
  "kernelspec": {
   "display_name": "Python 3",
   "language": "python",
   "name": "python3"
  },
  "language_info": {
   "codemirror_mode": {
    "name": "ipython",
    "version": 3
   },
   "file_extension": ".py",
   "mimetype": "text/x-python",
   "name": "python",
   "nbconvert_exporter": "python",
   "pygments_lexer": "ipython3",
   "version": "3.6.2"
  }
 },
 "nbformat": 4,
 "nbformat_minor": 1
}
